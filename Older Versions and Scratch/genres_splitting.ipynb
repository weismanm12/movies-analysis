{
 "cells": [
  {
   "cell_type": "markdown",
   "id": "1dcddf2a-b4a8-4378-8406-4211cf0648a6",
   "metadata": {},
   "source": [
    "## Splitting Apart Genres\n",
    "Films can have multiple genres. This is relevant information that I want to dig in more, so I will be creating a genres table consisting of all distinct genres and a mapping table in between genres and movies."
   ]
  },
  {
   "cell_type": "code",
   "execution_count": null,
   "id": "ce1742dc-16be-44ef-a4aa-78448c6840e1",
   "metadata": {},
   "outputs": [],
   "source": [
    "movies_df.head()"
   ]
  },
  {
   "cell_type": "code",
   "execution_count": null,
   "id": "36444daa-7725-4cd8-9e6b-6965b71fa9b7",
   "metadata": {},
   "outputs": [],
   "source": [
    "# Explode movies_df and save as movies_df_xd\n",
    "movies_df_xd = movies_df.explode(\"genres\")"
   ]
  },
  {
   "cell_type": "code",
   "execution_count": null,
   "id": "debc2843-a1a7-4933-98b8-4d7af4978674",
   "metadata": {},
   "outputs": [],
   "source": [
    "movies_df_xd.head()"
   ]
  },
  {
   "cell_type": "code",
   "execution_count": null,
   "id": "e88837d2-5bcf-4caf-8905-712191b422ba",
   "metadata": {},
   "outputs": [],
   "source": [
    "# Keep only title unique id and genres. Will replace genre names with ids after creating genres table\n",
    "movie_genres_df = movies_df_xd.loc[movies_df_xd[\"genres\"].notnull(), [\"tconst\", \"genres\"]].reset_index(drop=True)"
   ]
  },
  {
   "cell_type": "code",
   "execution_count": null,
   "id": "44a41bd1-6e0a-4fb4-b612-68f5db3fee2d",
   "metadata": {},
   "outputs": [],
   "source": [
    "movie_genres_df[\"genres\"].value_counts()"
   ]
  },
  {
   "cell_type": "code",
   "execution_count": null,
   "id": "307f46db-f78c-4d09-b6ab-9edae8337264",
   "metadata": {},
   "outputs": [],
   "source": [
    "# Create genres table with distinct genres and assign an id\n",
    "genres_df = pd.DataFrame(movie_genres_df[\"genres\"].unique(), columns=[\"genreName\"])"
   ]
  },
  {
   "cell_type": "code",
   "execution_count": null,
   "id": "9fef86fa-257b-4450-84dc-7248d25184a9",
   "metadata": {},
   "outputs": [],
   "source": [
    "# Generate an id column using index + 1\n",
    "ids_array = genres_df.index + 1"
   ]
  },
  {
   "cell_type": "code",
   "execution_count": null,
   "id": "29859c1f-3a8b-45ad-a29e-c901fc447f61",
   "metadata": {},
   "outputs": [],
   "source": [
    "ids_array"
   ]
  },
  {
   "cell_type": "code",
   "execution_count": null,
   "id": "5b21251c-73ce-4808-bb57-677ddba17379",
   "metadata": {},
   "outputs": [],
   "source": [
    "# Create new column \"gconst\"\n",
    "genres_df[\"gconst\"] = ids_array"
   ]
  },
  {
   "cell_type": "code",
   "execution_count": null,
   "id": "48016240-fb5c-4545-b51d-4e4f8d5506ed",
   "metadata": {},
   "outputs": [],
   "source": [
    "# Reorder columns\n",
    "genres_df = genres_df[[\"genre_id\", \"genreName\"]]"
   ]
  },
  {
   "cell_type": "code",
   "execution_count": null,
   "id": "e5d2e170-3960-43e6-8f5e-026de533765b",
   "metadata": {},
   "outputs": [],
   "source": [
    "genres_df.head()"
   ]
  },
  {
   "cell_type": "code",
   "execution_count": null,
   "id": "15a37f84-0e4b-441d-9ad8-1c5344ffa881",
   "metadata": {},
   "outputs": [],
   "source": [
    "movie_genres_df.head()"
   ]
  },
  {
   "cell_type": "code",
   "execution_count": null,
   "id": "e7801799-0bc2-457d-868e-be0e657fd386",
   "metadata": {},
   "outputs": [],
   "source": [
    "# Next, assign \"genre_id\" to movie_genres_df instead of full name.\n",
    "# But first, check rows before and then after. Should not lose any.\n",
    "movie_genres_df.shape[0]"
   ]
  },
  {
   "cell_type": "code",
   "execution_count": null,
   "id": "2e20926a-dd93-4401-b8d2-299b843da7f3",
   "metadata": {},
   "outputs": [],
   "source": [
    "# Assign genre_id to movie_genres_df\n",
    "movie_genres_df = pd.merge(movie_genres_df, genres_df, left_on=\"genres\", right_on=\"genreName\")"
   ]
  },
  {
   "cell_type": "code",
   "execution_count": null,
   "id": "5d71671b-890e-464f-bd4f-cde8c4b34943",
   "metadata": {},
   "outputs": [],
   "source": [
    "movie_genres_df.head()"
   ]
  },
  {
   "cell_type": "code",
   "execution_count": null,
   "id": "030565ce-2145-47ea-a6cc-721a8a4a7764",
   "metadata": {},
   "outputs": [],
   "source": [
    "# Rows the same, successful id assignment.\n",
    "movie_genres_df.shape[0]"
   ]
  },
  {
   "cell_type": "code",
   "execution_count": null,
   "id": "17cee5d4-6408-4d8f-9e72-607d07ba4555",
   "metadata": {},
   "outputs": [],
   "source": [
    "# Drop \"genres\" from movie_genres_df\n",
    "movie_genres_df.drop([ \"genres\", \"genreName\"], axis=1, inplace=True)"
   ]
  },
  {
   "cell_type": "code",
   "execution_count": null,
   "id": "c3c3eba8-4ea2-4505-af21-60f72279a709",
   "metadata": {},
   "outputs": [],
   "source": [
    "# Keep backup of genres in movies_df. Also have movies_df_xd.\n",
    "movies_df_wGenres = movies_df.copy()"
   ]
  },
  {
   "cell_type": "code",
   "execution_count": null,
   "id": "549606c8-d01e-4393-b6e8-aa2398edca02",
   "metadata": {},
   "outputs": [],
   "source": [
    "# Now drop genres column from movies_df\n",
    "movies_df.drop(\"genres\", axis=1, inplace=True)"
   ]
  },
  {
   "cell_type": "code",
   "execution_count": null,
   "id": "d960f946-8880-4370-91f8-1e0d288f8efa",
   "metadata": {},
   "outputs": [],
   "source": [
    "movies_df.head()"
   ]
  }
 ],
 "metadata": {
  "kernelspec": {
   "display_name": "Python 3 (ipykernel)",
   "language": "python",
   "name": "python3"
  },
  "language_info": {
   "codemirror_mode": {
    "name": "ipython",
    "version": 3
   },
   "file_extension": ".py",
   "mimetype": "text/x-python",
   "name": "python",
   "nbconvert_exporter": "python",
   "pygments_lexer": "ipython3",
   "version": "3.10.9"
  }
 },
 "nbformat": 4,
 "nbformat_minor": 5
}
